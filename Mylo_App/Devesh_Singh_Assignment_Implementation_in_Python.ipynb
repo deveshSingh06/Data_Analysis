{
 "cells": [
  {
   "cell_type": "code",
   "execution_count": 1,
   "metadata": {
    "colab": {},
    "colab_type": "code",
    "executionInfo": {
     "elapsed": 2441,
     "status": "ok",
     "timestamp": 1596441463048,
     "user": {
      "displayName": "Devesh Singh",
      "photoUrl": "https://lh3.googleusercontent.com/a-/AOh14GjQ6XJWpQ4PxGbIfBQD6NHOzIh2M2Dg1VmFfhJiaw=s64",
      "userId": "15685909075934317041"
     },
     "user_tz": -330
    },
    "id": "wXTkdi8i3V-2"
   },
   "outputs": [],
   "source": [
    "import numpy as np\n",
    "import pandas as pd\n",
    "import matplotlib.pyplot as plt\n",
    "% matplotlib inline"
   ]
  },
  {
   "cell_type": "markdown",
   "metadata": {
    "colab_type": "text",
    "id": "uLJ5eFuK7hGv"
   },
   "source": [
    "- PowerCurve.csv is a worksheet having the device IDs of daily active users of each day of a month.\n",
    "\n",
    "- Active_Users.csv is a worksheet having the weekly active users' (WAU)  that contains all device IDs that were active  in a particular week."
   ]
  },
  {
   "cell_type": "code",
   "execution_count": 2,
   "metadata": {
    "colab": {
     "base_uri": "https://localhost:8080/",
     "height": 52
    },
    "colab_type": "code",
    "executionInfo": {
     "elapsed": 2779,
     "status": "ok",
     "timestamp": 1596441463889,
     "user": {
      "displayName": "Devesh Singh",
      "photoUrl": "https://lh3.googleusercontent.com/a-/AOh14GjQ6XJWpQ4PxGbIfBQD6NHOzIh2M2Dg1VmFfhJiaw=s64",
      "userId": "15685909075934317041"
     },
     "user_tz": -330
    },
    "id": "f-lNReDK4BgF",
    "outputId": "958cdedd-7cfd-482b-c470-b5ec23a90fc2"
   },
   "outputs": [
    {
     "data": {
      "application/vnd.google.colaboratory.intrinsic+json": {
       "type": "string"
      },
      "text/plain": [
       "'\\nexcel1 = pd.read_excel(\"Active Users (1) (2).xlsx\")\\nexcel1.to_csv(\"Active_Users.csv\", encoding=\\'utf-8\\', index=False)\\n\\nexcel2 = pd.read_excel(\"PowerCurve-DAU_Device_ids (2) (1).xlsx\")\\nexcel2.to_csv(\"PowerCurve.csv\", encoding=\\'utf-8\\', index=False)\\n'"
      ]
     },
     "execution_count": 2,
     "metadata": {
      "tags": []
     },
     "output_type": "execute_result"
    }
   ],
   "source": [
    "'''\n",
    "excel1 = pd.read_excel(\"Active Users (1) (2).xlsx\")\n",
    "excel1.to_csv(\"Active_Users.csv\", encoding='utf-8', index=False)\n",
    "\n",
    "excel2 = pd.read_excel(\"PowerCurve-DAU_Device_ids (2) (1).xlsx\")\n",
    "excel2.to_csv(\"PowerCurve.csv\", encoding='utf-8', index=False)\n",
    "'''"
   ]
  },
  {
   "cell_type": "code",
   "execution_count": 3,
   "metadata": {
    "colab": {
     "base_uri": "https://localhost:8080/",
     "height": 215
    },
    "colab_type": "code",
    "executionInfo": {
     "elapsed": 2730,
     "status": "ok",
     "timestamp": 1596441463891,
     "user": {
      "displayName": "Devesh Singh",
      "photoUrl": "https://lh3.googleusercontent.com/a-/AOh14GjQ6XJWpQ4PxGbIfBQD6NHOzIh2M2Dg1VmFfhJiaw=s64",
      "userId": "15685909075934317041"
     },
     "user_tz": -330
    },
    "id": "nLMr3DjW5Wou",
    "outputId": "760608b7-90b2-46eb-ac92-5d17a457d366"
   },
   "outputs": [
    {
     "data": {
      "text/html": [
       "<div>\n",
       "<style scoped>\n",
       "    .dataframe tbody tr th:only-of-type {\n",
       "        vertical-align: middle;\n",
       "    }\n",
       "\n",
       "    .dataframe tbody tr th {\n",
       "        vertical-align: top;\n",
       "    }\n",
       "\n",
       "    .dataframe thead th {\n",
       "        text-align: right;\n",
       "    }\n",
       "</style>\n",
       "<table border=\"1\" class=\"dataframe\">\n",
       "  <thead>\n",
       "    <tr style=\"text-align: right;\">\n",
       "      <th></th>\n",
       "      <th>w1</th>\n",
       "      <th>w2</th>\n",
       "      <th>w3</th>\n",
       "      <th>w4</th>\n",
       "      <th>w5</th>\n",
       "      <th>w6</th>\n",
       "      <th>w7</th>\n",
       "      <th>w8</th>\n",
       "      <th>w9</th>\n",
       "      <th>w10</th>\n",
       "      <th>w11</th>\n",
       "      <th>w12</th>\n",
       "      <th>w13</th>\n",
       "      <th>w14</th>\n",
       "      <th>w15</th>\n",
       "      <th>w16</th>\n",
       "      <th>w17</th>\n",
       "      <th>w18</th>\n",
       "      <th>w19</th>\n",
       "      <th>w20</th>\n",
       "      <th>w21</th>\n",
       "      <th>w22</th>\n",
       "      <th>w23</th>\n",
       "      <th>w24</th>\n",
       "      <th>w25</th>\n",
       "      <th>w26</th>\n",
       "      <th>w27</th>\n",
       "      <th>w28</th>\n",
       "      <th>w29</th>\n",
       "      <th>w30</th>\n",
       "      <th>w31</th>\n",
       "      <th>w32</th>\n",
       "      <th>w33</th>\n",
       "      <th>w34</th>\n",
       "      <th>w35</th>\n",
       "      <th>w36</th>\n",
       "      <th>w37</th>\n",
       "      <th>w38</th>\n",
       "      <th>w39</th>\n",
       "      <th>w40</th>\n",
       "      <th>w41</th>\n",
       "      <th>w42</th>\n",
       "      <th>w43</th>\n",
       "      <th>w44</th>\n",
       "      <th>w45</th>\n",
       "      <th>w46</th>\n",
       "      <th>w47</th>\n",
       "      <th>w48</th>\n",
       "      <th>w49</th>\n",
       "      <th>w50</th>\n",
       "      <th>w51</th>\n",
       "      <th>w52</th>\n",
       "      <th>w53</th>\n",
       "      <th>w54</th>\n",
       "      <th>w55</th>\n",
       "      <th>w56</th>\n",
       "    </tr>\n",
       "  </thead>\n",
       "  <tbody>\n",
       "    <tr>\n",
       "      <th>0</th>\n",
       "      <td>fd7c28f9fd8045f2</td>\n",
       "      <td>fd7c28f9fd8045f2</td>\n",
       "      <td>fd7c28f9fd8045f2</td>\n",
       "      <td>fd7c28f9fd8045f2</td>\n",
       "      <td>fd7c28f9fd8045f2</td>\n",
       "      <td>231d91be38352d7a</td>\n",
       "      <td>306243851b716bf6</td>\n",
       "      <td>149f7dd1efe25ebc</td>\n",
       "      <td>191a909000d7123d</td>\n",
       "      <td>191a909000d7123d</td>\n",
       "      <td>839d5042ee4d8988</td>\n",
       "      <td>5109246885c54360</td>\n",
       "      <td>124bed219eafda9f</td>\n",
       "      <td>51f6c4c889cb71be</td>\n",
       "      <td>839d5042ee4d8988</td>\n",
       "      <td>191a909000d7123d</td>\n",
       "      <td>839d5042ee4d8988</td>\n",
       "      <td>31a0751a273226c0</td>\n",
       "      <td>191a909000d7123d</td>\n",
       "      <td>35d78153ec0ca97e</td>\n",
       "      <td>12a59aea3fe77a5f</td>\n",
       "      <td>191a909000d7123d</td>\n",
       "      <td>124bed219eafda9f</td>\n",
       "      <td>d6e21bdbae6d52bc</td>\n",
       "      <td>d41979e05b99805</td>\n",
       "      <td>ebf729078fe8dee8</td>\n",
       "      <td>a6137d1412146164</td>\n",
       "      <td>180866087d7dd708</td>\n",
       "      <td>d32e84f7bb1f9631</td>\n",
       "      <td>fc1c289ff4c82eae</td>\n",
       "      <td>a0b7467c6857475d</td>\n",
       "      <td>92db57a0aeb3ee8b</td>\n",
       "      <td>2d83793bcd0a55b9</td>\n",
       "      <td>b4e159960b1cc6e</td>\n",
       "      <td>ef892177dd321b8a</td>\n",
       "      <td>bfd2da1a0df8dda5</td>\n",
       "      <td>4c37523b384902e7</td>\n",
       "      <td>6b5a1ba54893478</td>\n",
       "      <td>7a2f9d51a3fe6d43</td>\n",
       "      <td>46c9a936f7358e71</td>\n",
       "      <td>509c82f847421070</td>\n",
       "      <td>ffe3f42c388ac838</td>\n",
       "      <td>fffd1689d69e4963</td>\n",
       "      <td>ffedb2a5b3b4838</td>\n",
       "      <td>fffd1689d69e4963</td>\n",
       "      <td>ffedb2a5b3b4838</td>\n",
       "      <td>ffedb2a5b3b4838</td>\n",
       "      <td>ffedb2a5b3b4838</td>\n",
       "      <td>fff444dcd8f9808f</td>\n",
       "      <td>ffedb2a5b3b4838</td>\n",
       "      <td>ffedb2a5b3b4838</td>\n",
       "      <td>ffedb2a5b3b4838</td>\n",
       "      <td>ffedb2a5b3b4838</td>\n",
       "      <td>fffe76c3a948cdfb</td>\n",
       "      <td>fffe76c3a948cdfb</td>\n",
       "      <td>fffe76c3a948cdfb</td>\n",
       "    </tr>\n",
       "    <tr>\n",
       "      <th>1</th>\n",
       "      <td>54910d2b363221e1</td>\n",
       "      <td>520443b0b8128202</td>\n",
       "      <td>a4bce0d054266d68</td>\n",
       "      <td>a4bce0d054266d68</td>\n",
       "      <td>c0bb01dbe2b2de0f</td>\n",
       "      <td>53010d4139ed029f</td>\n",
       "      <td>d1afc6d7c4661d7e</td>\n",
       "      <td>9ab44ee389767d59</td>\n",
       "      <td>91e804eb002a580d</td>\n",
       "      <td>5109246885c54360</td>\n",
       "      <td>91e804eb002a580d</td>\n",
       "      <td>306243851b716bf6</td>\n",
       "      <td>821d85417c5745a9</td>\n",
       "      <td>821d85417c5745a9</td>\n",
       "      <td>27e142fe4c922f</td>\n",
       "      <td>124bed219eafda9f</td>\n",
       "      <td>821d85417c5745a9</td>\n",
       "      <td>185dba5eea76c25a</td>\n",
       "      <td>124bed219eafda9f</td>\n",
       "      <td>185dba5eea76c25a</td>\n",
       "      <td>185dba5eea76c25a</td>\n",
       "      <td>ec07876930bfd746</td>\n",
       "      <td>185dba5eea76c25a</td>\n",
       "      <td>124bed219eafda9f</td>\n",
       "      <td>ebe4ff79191258b</td>\n",
       "      <td>5ad60d644c47e44b</td>\n",
       "      <td>9d7dca508bc226d5</td>\n",
       "      <td>124bed219eafda9f</td>\n",
       "      <td>9a02bff438965bce</td>\n",
       "      <td>f536e5415399544</td>\n",
       "      <td>c2cd6c9714b58bd3</td>\n",
       "      <td>b4757c8b7ca5a942</td>\n",
       "      <td>e3fc9a1e129b7e21</td>\n",
       "      <td>70fc07695b2e1a24</td>\n",
       "      <td>559c18107a90c848</td>\n",
       "      <td>28639e5d189fa221</td>\n",
       "      <td>823001ae3d13c6cc</td>\n",
       "      <td>ae3f39e1cb8dcb0</td>\n",
       "      <td>29569ec1a59a885a</td>\n",
       "      <td>100bf6cc9d6f88e9</td>\n",
       "      <td>e68b1dc63598f60</td>\n",
       "      <td>ffddaebee5bece5e</td>\n",
       "      <td>ffedb2a5b3b4838</td>\n",
       "      <td>ffe3f42c388ac838</td>\n",
       "      <td>ffedb2a5b3b4838</td>\n",
       "      <td>ffe3d17a83edd05a</td>\n",
       "      <td>ffe3d17a83edd05a</td>\n",
       "      <td>ffe3d17a83edd05a</td>\n",
       "      <td>ffedb2a5b3b4838</td>\n",
       "      <td>ffde16048235a32f</td>\n",
       "      <td>ffde16048235a32f</td>\n",
       "      <td>ffe7939306264854</td>\n",
       "      <td>ffe7939306264854</td>\n",
       "      <td>fff444dcd8f9808f</td>\n",
       "      <td>fff444dcd8f9808f</td>\n",
       "      <td>ffe7939306264854</td>\n",
       "    </tr>\n",
       "    <tr>\n",
       "      <th>2</th>\n",
       "      <td>520443b0b8128202</td>\n",
       "      <td>a4bce0d054266d68</td>\n",
       "      <td>7b042fcc54a45882</td>\n",
       "      <td>d98da6eaa4bb452f</td>\n",
       "      <td>7b042fcc54a45882</td>\n",
       "      <td>a4bce0d054266d68</td>\n",
       "      <td>3792a1c9395e3e2a</td>\n",
       "      <td>839d5042ee4d8988</td>\n",
       "      <td>a4bce0d054266d68</td>\n",
       "      <td>e254fb2201bf1419</td>\n",
       "      <td>306243851b716bf6</td>\n",
       "      <td>a99a477e2c336bb9</td>\n",
       "      <td>306243851b716bf6</td>\n",
       "      <td>306243851b716bf6</td>\n",
       "      <td>821d85417c5745a9</td>\n",
       "      <td>821d85417c5745a9</td>\n",
       "      <td>5109246885c54360</td>\n",
       "      <td>65d1591bd2a6be03</td>\n",
       "      <td>821d85417c5745a9</td>\n",
       "      <td>92679583a8398662</td>\n",
       "      <td>108dc7288cc47571</td>\n",
       "      <td>185dba5eea76c25a</td>\n",
       "      <td>108dc7288cc47571</td>\n",
       "      <td>821d85417c5745a9</td>\n",
       "      <td>e24122826dc317ad</td>\n",
       "      <td>bd3708615c135c36</td>\n",
       "      <td>7d3615396e074a76</td>\n",
       "      <td>86a41d820c77aac1</td>\n",
       "      <td>9b2d519f1e265cbc</td>\n",
       "      <td>7c4855cc790bd0a8</td>\n",
       "      <td>6b39fa6bb7f2577d</td>\n",
       "      <td>16188f336f80c84e</td>\n",
       "      <td>99f090c11b920b19</td>\n",
       "      <td>5d8bb169394a17de</td>\n",
       "      <td>43917a92612a70d</td>\n",
       "      <td>88d1a7981cbeeacc</td>\n",
       "      <td>16cac72aff1a92ce</td>\n",
       "      <td>d787485ff575ab4a</td>\n",
       "      <td>ac641dad76123ef9</td>\n",
       "      <td>6823944d173d0ccd</td>\n",
       "      <td>431f0a93e5a2892f</td>\n",
       "      <td>ffd4835040fd7002</td>\n",
       "      <td>ffe3f42c388ac838</td>\n",
       "      <td>ffdce5869723d832</td>\n",
       "      <td>ffe3d17a83edd05a</td>\n",
       "      <td>ffde16048235a32f</td>\n",
       "      <td>ffde16048235a32f</td>\n",
       "      <td>ffde16048235a32f</td>\n",
       "      <td>ffde16048235a32f</td>\n",
       "      <td>ffd99d6c632283a9</td>\n",
       "      <td>ffc6c128db97ab1d</td>\n",
       "      <td>ffe3d17a83edd05a</td>\n",
       "      <td>ffb36133fb3c44e2</td>\n",
       "      <td>ffedb2a5b3b4838</td>\n",
       "      <td>ffedb2a5b3b4838</td>\n",
       "      <td>ffde16048235a32f</td>\n",
       "    </tr>\n",
       "    <tr>\n",
       "      <th>3</th>\n",
       "      <td>a4bce0d054266d68</td>\n",
       "      <td>d1afc6d7c4661d7e</td>\n",
       "      <td>aed9597fc6984d64</td>\n",
       "      <td>7b042fcc54a45882</td>\n",
       "      <td>c885df69f0e13074</td>\n",
       "      <td>d1afc6d7c4661d7e</td>\n",
       "      <td>7b042fcc54a45882</td>\n",
       "      <td>a4bce0d054266d68</td>\n",
       "      <td>306243851b716bf6</td>\n",
       "      <td>306243851b716bf6</td>\n",
       "      <td>d1afc6d7c4661d7e</td>\n",
       "      <td>d1afc6d7c4661d7e</td>\n",
       "      <td>a99a477e2c336bb9</td>\n",
       "      <td>a99a477e2c336bb9</td>\n",
       "      <td>306243851b716bf6</td>\n",
       "      <td>839d5042ee4d8988</td>\n",
       "      <td>306243851b716bf6</td>\n",
       "      <td>a99a477e2c336bb9</td>\n",
       "      <td>185dba5eea76c25a</td>\n",
       "      <td>a99a477e2c336bb9</td>\n",
       "      <td>92679583a8398662</td>\n",
       "      <td>92679583a8398662</td>\n",
       "      <td>92679583a8398662</td>\n",
       "      <td>108dc7288cc47571</td>\n",
       "      <td>dd09beba51187cdb</td>\n",
       "      <td>ad8e55c35ed8c52e</td>\n",
       "      <td>9a67ffb6ea7cf8bc</td>\n",
       "      <td>65fe43e73d5dc146</td>\n",
       "      <td>35f2e0d14ba9d15d</td>\n",
       "      <td>a6fd82affa490c48</td>\n",
       "      <td>4ff3f9933ee7684e</td>\n",
       "      <td>720d636c1c09cd04</td>\n",
       "      <td>d10e2d2b5e329fc0</td>\n",
       "      <td>7ec9cd7b2b472ba5</td>\n",
       "      <td>a86191db16bde7eb</td>\n",
       "      <td>dd4546cbba71249c</td>\n",
       "      <td>11f08da6ecae6293</td>\n",
       "      <td>ec92930a666cdef5</td>\n",
       "      <td>9947bd97fd590f86</td>\n",
       "      <td>709c20ba021a31a</td>\n",
       "      <td>1a0735379bc599fc</td>\n",
       "      <td>ffcbf697b45f1586</td>\n",
       "      <td>ffddaebee5bece5e</td>\n",
       "      <td>ffcbf697b45f1586</td>\n",
       "      <td>ffb36133fb3c44e2</td>\n",
       "      <td>ffb36133fb3c44e2</td>\n",
       "      <td>ffb36133fb3c44e2</td>\n",
       "      <td>ffdce5869723d832</td>\n",
       "      <td>ffbafb7cc49be72</td>\n",
       "      <td>ffb36133fb3c44e2</td>\n",
       "      <td>ffb36133fb3c44e2</td>\n",
       "      <td>ffde16048235a32f</td>\n",
       "      <td>ffa8eb6c18e09543</td>\n",
       "      <td>ffe7939306264854</td>\n",
       "      <td>ffde16048235a32f</td>\n",
       "      <td>ffb94deefa8aa79f</td>\n",
       "    </tr>\n",
       "    <tr>\n",
       "      <th>4</th>\n",
       "      <td>3792a1c9395e3e2a</td>\n",
       "      <td>7b042fcc54a45882</td>\n",
       "      <td>407d67f50877e6f9</td>\n",
       "      <td>aed9597fc6984d64</td>\n",
       "      <td>aed9597fc6984d64</td>\n",
       "      <td>3792a1c9395e3e2a</td>\n",
       "      <td>a455b3d89d7d6a3b</td>\n",
       "      <td>306243851b716bf6</td>\n",
       "      <td>a99a477e2c336bb9</td>\n",
       "      <td>a99a477e2c336bb9</td>\n",
       "      <td>a99a477e2c336bb9</td>\n",
       "      <td>f77ccadaf64a02bc</td>\n",
       "      <td>c0c1ded47b682442</td>\n",
       "      <td>8dd8a6808f175f0e</td>\n",
       "      <td>d1afc6d7c4661d7e</td>\n",
       "      <td>306243851b716bf6</td>\n",
       "      <td>a99a477e2c336bb9</td>\n",
       "      <td>d1afc6d7c4661d7e</td>\n",
       "      <td>92679583a8398662</td>\n",
       "      <td>d1afc6d7c4661d7e</td>\n",
       "      <td>a99a477e2c336bb9</td>\n",
       "      <td>a99a477e2c336bb9</td>\n",
       "      <td>a99a477e2c336bb9</td>\n",
       "      <td>306243851b716bf6</td>\n",
       "      <td>51ed59e6df607332</td>\n",
       "      <td>aaa805747525a3d0</td>\n",
       "      <td>5a538fdb50c8d9dd</td>\n",
       "      <td>2b0f57aefe749ed0</td>\n",
       "      <td>17ec4918eb101c58</td>\n",
       "      <td>fa80161f9634c2b3</td>\n",
       "      <td>d27305eb30f0fc3</td>\n",
       "      <td>4ff3f9933ee7684e</td>\n",
       "      <td>b171d514dd899c88</td>\n",
       "      <td>5b5863666f850f42</td>\n",
       "      <td>51692350cf8a49eb</td>\n",
       "      <td>8bc55afa64318c00</td>\n",
       "      <td>b7d24ca4d9224c49</td>\n",
       "      <td>b9f63115c9aece1e</td>\n",
       "      <td>78431930a8c001f9</td>\n",
       "      <td>d00eb70bdc0bd57b</td>\n",
       "      <td>1c2d0b8a19d52744</td>\n",
       "      <td>ffb36133fb3c44e2</td>\n",
       "      <td>ffcbf697b45f1586</td>\n",
       "      <td>ffb36133fb3c44e2</td>\n",
       "      <td>ffb1ec5223f1a920</td>\n",
       "      <td>ffadebad4a6c0a75</td>\n",
       "      <td>ff7e5bf81a779007</td>\n",
       "      <td>ffb36133fb3c44e2</td>\n",
       "      <td>ffb36133fb3c44e2</td>\n",
       "      <td>ffa96fa38b711342</td>\n",
       "      <td>ffa96fa38b711342</td>\n",
       "      <td>ffb36133fb3c44e2</td>\n",
       "      <td>ff7e5bf81a779007</td>\n",
       "      <td>ffde16048235a32f</td>\n",
       "      <td>ffb36133fb3c44e2</td>\n",
       "      <td>ffb36133fb3c44e2</td>\n",
       "    </tr>\n",
       "  </tbody>\n",
       "</table>\n",
       "</div>"
      ],
      "text/plain": [
       "                 w1                w2  ...               w55               w56\n",
       "0  fd7c28f9fd8045f2  fd7c28f9fd8045f2  ...  fffe76c3a948cdfb  fffe76c3a948cdfb\n",
       "1  54910d2b363221e1  520443b0b8128202  ...  fff444dcd8f9808f  ffe7939306264854\n",
       "2  520443b0b8128202  a4bce0d054266d68  ...   ffedb2a5b3b4838  ffde16048235a32f\n",
       "3  a4bce0d054266d68  d1afc6d7c4661d7e  ...  ffde16048235a32f  ffb94deefa8aa79f\n",
       "4  3792a1c9395e3e2a  7b042fcc54a45882  ...  ffb36133fb3c44e2  ffb36133fb3c44e2\n",
       "\n",
       "[5 rows x 56 columns]"
      ]
     },
     "execution_count": 3,
     "metadata": {
      "tags": []
     },
     "output_type": "execute_result"
    }
   ],
   "source": [
    "df_activeU = pd.read_csv(\"Active_Users.csv\")\n",
    "df_activeU.head()"
   ]
  },
  {
   "cell_type": "code",
   "execution_count": 4,
   "metadata": {
    "colab": {
     "base_uri": "https://localhost:8080/",
     "height": 34
    },
    "colab_type": "code",
    "executionInfo": {
     "elapsed": 2684,
     "status": "ok",
     "timestamp": 1596441463893,
     "user": {
      "displayName": "Devesh Singh",
      "photoUrl": "https://lh3.googleusercontent.com/a-/AOh14GjQ6XJWpQ4PxGbIfBQD6NHOzIh2M2Dg1VmFfhJiaw=s64",
      "userId": "15685909075934317041"
     },
     "user_tz": -330
    },
    "id": "Os9FrnAc6nv6",
    "outputId": "a2dcacc7-7920-4976-bbaa-9a7e9f1d4ace"
   },
   "outputs": [
    {
     "data": {
      "text/plain": [
       "(4014, 56)"
      ]
     },
     "execution_count": 4,
     "metadata": {
      "tags": []
     },
     "output_type": "execute_result"
    }
   ],
   "source": [
    "df_activeU.shape"
   ]
  },
  {
   "cell_type": "code",
   "execution_count": 5,
   "metadata": {
    "colab": {
     "base_uri": "https://localhost:8080/",
     "height": 974
    },
    "colab_type": "code",
    "executionInfo": {
     "elapsed": 2629,
     "status": "ok",
     "timestamp": 1596441463894,
     "user": {
      "displayName": "Devesh Singh",
      "photoUrl": "https://lh3.googleusercontent.com/a-/AOh14GjQ6XJWpQ4PxGbIfBQD6NHOzIh2M2Dg1VmFfhJiaw=s64",
      "userId": "15685909075934317041"
     },
     "user_tz": -330
    },
    "id": "2Luzo_Xh8bFw",
    "outputId": "0e4d462f-d96e-4cb6-bc8f-fb90ec51404a"
   },
   "outputs": [
    {
     "data": {
      "text/plain": [
       "w1     2255\n",
       "w2     2360\n",
       "w3     2282\n",
       "w4     1898\n",
       "w5     1821\n",
       "w6     1857\n",
       "w7     1463\n",
       "w8     1139\n",
       "w9     1219\n",
       "w10    1193\n",
       "w11    1268\n",
       "w12    1108\n",
       "w13     934\n",
       "w14     963\n",
       "w15    1061\n",
       "w16     948\n",
       "w17     969\n",
       "w18     915\n",
       "w19     946\n",
       "w20     912\n",
       "w21    1023\n",
       "w22     767\n",
       "w23     820\n",
       "w24     905\n",
       "w25     913\n",
       "w26     827\n",
       "w27     829\n",
       "w28     939\n",
       "w29    1169\n",
       "w30    1329\n",
       "w31    1362\n",
       "w32    1457\n",
       "w33    1485\n",
       "w34    1080\n",
       "w35    1127\n",
       "w36     833\n",
       "w37     915\n",
       "w38     613\n",
       "w39     277\n",
       "w40     268\n",
       "w41       0\n",
       "w42     566\n",
       "w43     865\n",
       "w44     796\n",
       "w45     923\n",
       "w46     431\n",
       "w47     407\n",
       "w48     192\n",
       "w49     151\n",
       "w50     260\n",
       "w51     213\n",
       "w52     246\n",
       "w53     273\n",
       "w54     105\n",
       "w55     208\n",
       "w56     318\n",
       "dtype: int64"
      ]
     },
     "execution_count": 5,
     "metadata": {
      "tags": []
     },
     "output_type": "execute_result"
    }
   ],
   "source": [
    "df_activeU.isnull().sum()"
   ]
  },
  {
   "cell_type": "code",
   "execution_count": 6,
   "metadata": {
    "colab": {
     "base_uri": "https://localhost:8080/",
     "height": 215
    },
    "colab_type": "code",
    "executionInfo": {
     "elapsed": 3194,
     "status": "ok",
     "timestamp": 1596441464504,
     "user": {
      "displayName": "Devesh Singh",
      "photoUrl": "https://lh3.googleusercontent.com/a-/AOh14GjQ6XJWpQ4PxGbIfBQD6NHOzIh2M2Dg1VmFfhJiaw=s64",
      "userId": "15685909075934317041"
     },
     "user_tz": -330
    },
    "id": "62cZyS8R59nQ",
    "outputId": "e6a076f3-e212-4adf-9a3a-88a58d49ccad"
   },
   "outputs": [
    {
     "data": {
      "text/html": [
       "<div>\n",
       "<style scoped>\n",
       "    .dataframe tbody tr th:only-of-type {\n",
       "        vertical-align: middle;\n",
       "    }\n",
       "\n",
       "    .dataframe tbody tr th {\n",
       "        vertical-align: top;\n",
       "    }\n",
       "\n",
       "    .dataframe thead th {\n",
       "        text-align: right;\n",
       "    }\n",
       "</style>\n",
       "<table border=\"1\" class=\"dataframe\">\n",
       "  <thead>\n",
       "    <tr style=\"text-align: right;\">\n",
       "      <th></th>\n",
       "      <th>2017-10-01</th>\n",
       "      <th>2017-10-02</th>\n",
       "      <th>2017-10-03</th>\n",
       "      <th>2017-10-04</th>\n",
       "      <th>2017-10-05</th>\n",
       "      <th>2017-10-06</th>\n",
       "      <th>2017-10-07</th>\n",
       "      <th>2017-10-08</th>\n",
       "      <th>2017-10-09</th>\n",
       "      <th>2017-10-10</th>\n",
       "      <th>2017-10-11</th>\n",
       "      <th>2017-10-12</th>\n",
       "      <th>2017-10-13</th>\n",
       "      <th>2017-10-14</th>\n",
       "      <th>2017-10-15</th>\n",
       "      <th>2017-10-16</th>\n",
       "      <th>2017-10-17</th>\n",
       "      <th>2017-10-18</th>\n",
       "      <th>2017-10-19</th>\n",
       "      <th>2017-10-20</th>\n",
       "      <th>2017-10-21</th>\n",
       "      <th>2017-10-22</th>\n",
       "      <th>2017-10-23</th>\n",
       "      <th>2017-10-24</th>\n",
       "      <th>2017-10-25</th>\n",
       "      <th>2017-10-26</th>\n",
       "      <th>2017-10-27</th>\n",
       "      <th>2017-10-28</th>\n",
       "      <th>2017-10-29</th>\n",
       "      <th>2017-10-30</th>\n",
       "      <th>2017-10-31</th>\n",
       "    </tr>\n",
       "  </thead>\n",
       "  <tbody>\n",
       "    <tr>\n",
       "      <th>0</th>\n",
       "      <td>285020521074059</td>\n",
       "      <td>285020521074059</td>\n",
       "      <td>285020521074059</td>\n",
       "      <td>285020521074059</td>\n",
       "      <td>285020521074059</td>\n",
       "      <td>285020521074059</td>\n",
       "      <td>285020521074059</td>\n",
       "      <td>285020521074059</td>\n",
       "      <td>285020521074059</td>\n",
       "      <td>285020521074059</td>\n",
       "      <td>285020521074059</td>\n",
       "      <td>285020521074059</td>\n",
       "      <td>285020521074059</td>\n",
       "      <td>285020521074059</td>\n",
       "      <td>285020521074059</td>\n",
       "      <td>285020521074059</td>\n",
       "      <td>285020521074059</td>\n",
       "      <td>285020521074059</td>\n",
       "      <td>285020521074059</td>\n",
       "      <td>285020521074059</td>\n",
       "      <td>285020521074059</td>\n",
       "      <td>285020521074059</td>\n",
       "      <td>285020521074059</td>\n",
       "      <td>285020521074059</td>\n",
       "      <td>285020521074059</td>\n",
       "      <td>285020521074059</td>\n",
       "      <td>285020521074059</td>\n",
       "      <td>285020521074059</td>\n",
       "      <td>285020521074059</td>\n",
       "      <td>0036e6390a9e17b1</td>\n",
       "      <td>210521720553290</td>\n",
       "    </tr>\n",
       "    <tr>\n",
       "      <th>1</th>\n",
       "      <td>809648411450600060878848</td>\n",
       "      <td>001ee3d4fd0d1393</td>\n",
       "      <td>00a283e65135076e</td>\n",
       "      <td>001ee3d4fd0d1393</td>\n",
       "      <td>001ee3d4fd0d1393</td>\n",
       "      <td>00183d9b2185718e</td>\n",
       "      <td>00183d9b2185718e</td>\n",
       "      <td>00183d9b2185718e</td>\n",
       "      <td>3400079692024900096</td>\n",
       "      <td>001ee3d4fd0d1393</td>\n",
       "      <td>001ee3d4fd0d1393</td>\n",
       "      <td>001f310e1658e4c0</td>\n",
       "      <td>001ee3d4fd0d1393</td>\n",
       "      <td>001c1e62e423bc74</td>\n",
       "      <td>7128417570695999551137837426232948297535209128...</td>\n",
       "      <td>001f310e1658e4c0</td>\n",
       "      <td>00035cc291109b4d</td>\n",
       "      <td>87463922506848000</td>\n",
       "      <td>87463922506848000</td>\n",
       "      <td>87463922506848000</td>\n",
       "      <td>87463922506848000</td>\n",
       "      <td>2668002693824000</td>\n",
       "      <td>777708111208140</td>\n",
       "      <td>6564479795526000470005825420270908566451876685...</td>\n",
       "      <td>00183d9b2185718e</td>\n",
       "      <td>9805270173756200</td>\n",
       "      <td>946770812031453</td>\n",
       "      <td>87463922506848000</td>\n",
       "      <td>791104541223570</td>\n",
       "      <td>0075d7095f5747bf</td>\n",
       "      <td>285020521074059</td>\n",
       "    </tr>\n",
       "    <tr>\n",
       "      <th>2</th>\n",
       "      <td>001ee3d4fd0d1393</td>\n",
       "      <td>003e88d939e8e08c</td>\n",
       "      <td>00c7e013b900e087</td>\n",
       "      <td>002537a9182f4afd</td>\n",
       "      <td>0058339e87a02771</td>\n",
       "      <td>001ee3d4fd0d1393</td>\n",
       "      <td>001ee3d4fd0d1393</td>\n",
       "      <td>001ee3d4fd0d1393</td>\n",
       "      <td>001ca7d76f7d79ee</td>\n",
       "      <td>00637658298c8697</td>\n",
       "      <td>00637658298c8697</td>\n",
       "      <td>002537a9182f4afd</td>\n",
       "      <td>001f310e1658e4c0</td>\n",
       "      <td>001ee3d4fd0d1393</td>\n",
       "      <td>001f310e1658e4c0</td>\n",
       "      <td>004985c5898f4e5a</td>\n",
       "      <td>001f310e1658e4c0</td>\n",
       "      <td>001ee3d4fd0d1393</td>\n",
       "      <td>0036e6390a9e17b1</td>\n",
       "      <td>0086ca4569ddb275</td>\n",
       "      <td>001ee3d4fd0d1393</td>\n",
       "      <td>9003299644988999788100830086472234148586498080...</td>\n",
       "      <td>2668002693824000</td>\n",
       "      <td>0075d7095f5747bf</td>\n",
       "      <td>001ee3d4fd0d1393</td>\n",
       "      <td>7128417570695999551137837426232948297535209128...</td>\n",
       "      <td>8422464717280000400204331492864196952316009753...</td>\n",
       "      <td>001ee3d4fd0d1393</td>\n",
       "      <td>00183d9b2185718e</td>\n",
       "      <td>0080ca8989207f44</td>\n",
       "      <td>0045aea2ac6edb5a</td>\n",
       "    </tr>\n",
       "    <tr>\n",
       "      <th>3</th>\n",
       "      <td>0036e6390a9e17b1</td>\n",
       "      <td>0058339e87a02771</td>\n",
       "      <td>00d176adc3530e7a</td>\n",
       "      <td>007068741fbfb611</td>\n",
       "      <td>005f81093b87079e</td>\n",
       "      <td>005f81093b87079e</td>\n",
       "      <td>009197e411270447</td>\n",
       "      <td>0075d7095f5747bf</td>\n",
       "      <td>001ee3d4fd0d1393</td>\n",
       "      <td>0075d7095f5747bf</td>\n",
       "      <td>00a283e65135076e</td>\n",
       "      <td>00333c12e951d80f</td>\n",
       "      <td>005e82b46a140371</td>\n",
       "      <td>001f310e1658e4c0</td>\n",
       "      <td>0084734c5647a794</td>\n",
       "      <td>00637658298c8697</td>\n",
       "      <td>006a0e6289206391</td>\n",
       "      <td>00333c12e951d80f</td>\n",
       "      <td>0075d7095f5747bf</td>\n",
       "      <td>009197e411270447</td>\n",
       "      <td>005910532d8da2db</td>\n",
       "      <td>00035cc291109b4d</td>\n",
       "      <td>9003299644988999788100830086472234148586498080...</td>\n",
       "      <td>0080ca8989207f44</td>\n",
       "      <td>004e346b5919cc6e</td>\n",
       "      <td>00035cc291109b4d</td>\n",
       "      <td>00575aa68c6fa471</td>\n",
       "      <td>00708783608f9c75</td>\n",
       "      <td>001ee3d4fd0d1393</td>\n",
       "      <td>008a6268864a39c6</td>\n",
       "      <td>00575aa68c6fa471</td>\n",
       "    </tr>\n",
       "    <tr>\n",
       "      <th>4</th>\n",
       "      <td>006d67db40a6b9cb</td>\n",
       "      <td>005a39201eca94a6</td>\n",
       "      <td>00ee8ca909d29a0b</td>\n",
       "      <td>009197e411270447</td>\n",
       "      <td>00c5c32a8b4cf470</td>\n",
       "      <td>0083197a98ac8d3b</td>\n",
       "      <td>00c7e013b900e087</td>\n",
       "      <td>009197e411270447</td>\n",
       "      <td>005910532d8da2db</td>\n",
       "      <td>009bbc31d72e4fa8</td>\n",
       "      <td>00d176adc3530e7a</td>\n",
       "      <td>0058339e87a02771</td>\n",
       "      <td>0075d7095f5747bf</td>\n",
       "      <td>0058339e87a02771</td>\n",
       "      <td>009f4302a2ce732a</td>\n",
       "      <td>0075d7095f5747bf</td>\n",
       "      <td>0075d7095f5747bf</td>\n",
       "      <td>0036e6390a9e17b1</td>\n",
       "      <td>0084734c5647a794</td>\n",
       "      <td>009f4302a2ce732a</td>\n",
       "      <td>0075d7095f5747bf</td>\n",
       "      <td>001ca7d76f7d79ee</td>\n",
       "      <td>00035cc291109b4d</td>\n",
       "      <td>009197e411270447</td>\n",
       "      <td>005a39201eca94a6</td>\n",
       "      <td>00575aa68c6fa471</td>\n",
       "      <td>00637658298c8697</td>\n",
       "      <td>0075d7095f5747bf</td>\n",
       "      <td>006d67db40a6b9cb</td>\n",
       "      <td>009197e411270447</td>\n",
       "      <td>00a843d1fc13c7da</td>\n",
       "    </tr>\n",
       "  </tbody>\n",
       "</table>\n",
       "</div>"
      ],
      "text/plain": [
       "                 2017-10-01  ...        2017-10-31\n",
       "0           285020521074059  ...   210521720553290\n",
       "1  809648411450600060878848  ...   285020521074059\n",
       "2          001ee3d4fd0d1393  ...  0045aea2ac6edb5a\n",
       "3          0036e6390a9e17b1  ...  00575aa68c6fa471\n",
       "4          006d67db40a6b9cb  ...  00a843d1fc13c7da\n",
       "\n",
       "[5 rows x 31 columns]"
      ]
     },
     "execution_count": 6,
     "metadata": {
      "tags": []
     },
     "output_type": "execute_result"
    }
   ],
   "source": [
    "df_PCurve = pd.read_csv(\"PowerCurve.csv\")\n",
    "df_PCurve.head()"
   ]
  },
  {
   "cell_type": "code",
   "execution_count": 7,
   "metadata": {
    "colab": {
     "base_uri": "https://localhost:8080/",
     "height": 34
    },
    "colab_type": "code",
    "executionInfo": {
     "elapsed": 3136,
     "status": "ok",
     "timestamp": 1596441464506,
     "user": {
      "displayName": "Devesh Singh",
      "photoUrl": "https://lh3.googleusercontent.com/a-/AOh14GjQ6XJWpQ4PxGbIfBQD6NHOzIh2M2Dg1VmFfhJiaw=s64",
      "userId": "15685909075934317041"
     },
     "user_tz": -330
    },
    "id": "eSUGd6pl5wJo",
    "outputId": "a38cfb27-f4b2-499c-ad2c-8315f2776ad0"
   },
   "outputs": [
    {
     "data": {
      "text/plain": [
       "(9551, 31)"
      ]
     },
     "execution_count": 7,
     "metadata": {
      "tags": []
     },
     "output_type": "execute_result"
    }
   ],
   "source": [
    "df_PCurve.shape"
   ]
  },
  {
   "cell_type": "code",
   "execution_count": 8,
   "metadata": {
    "colab": {
     "base_uri": "https://localhost:8080/",
     "height": 554
    },
    "colab_type": "code",
    "executionInfo": {
     "elapsed": 3086,
     "status": "ok",
     "timestamp": 1596441464507,
     "user": {
      "displayName": "Devesh Singh",
      "photoUrl": "https://lh3.googleusercontent.com/a-/AOh14GjQ6XJWpQ4PxGbIfBQD6NHOzIh2M2Dg1VmFfhJiaw=s64",
      "userId": "15685909075934317041"
     },
     "user_tz": -330
    },
    "id": "uLaCF0nW8vn_",
    "outputId": "d96b62af-7355-488e-89e8-afabbc64af77"
   },
   "outputs": [
    {
     "data": {
      "text/plain": [
       "2017-10-01    5187\n",
       "2017-10-02    4195\n",
       "2017-10-03    4357\n",
       "2017-10-04    4157\n",
       "2017-10-05    3967\n",
       "2017-10-06    4335\n",
       "2017-10-07    3605\n",
       "2017-10-08    3511\n",
       "2017-10-09    3563\n",
       "2017-10-10    3542\n",
       "2017-10-11    3719\n",
       "2017-10-12    3300\n",
       "2017-10-13    3716\n",
       "2017-10-14    2863\n",
       "2017-10-15    2684\n",
       "2017-10-16    2297\n",
       "2017-10-17    2246\n",
       "2017-10-18    2133\n",
       "2017-10-19    1727\n",
       "2017-10-20    2998\n",
       "2017-10-21    1369\n",
       "2017-10-22    1552\n",
       "2017-10-23    1611\n",
       "2017-10-24    1234\n",
       "2017-10-25    1667\n",
       "2017-10-26    2766\n",
       "2017-10-27    2722\n",
       "2017-10-28    1053\n",
       "2017-10-29     578\n",
       "2017-10-30     181\n",
       "2017-10-31       0\n",
       "dtype: int64"
      ]
     },
     "execution_count": 8,
     "metadata": {
      "tags": []
     },
     "output_type": "execute_result"
    }
   ],
   "source": [
    "df_PCurve.isnull().sum()"
   ]
  },
  {
   "cell_type": "code",
   "execution_count": 8,
   "metadata": {
    "colab": {},
    "colab_type": "code",
    "executionInfo": {
     "elapsed": 3036,
     "status": "ok",
     "timestamp": 1596441464509,
     "user": {
      "displayName": "Devesh Singh",
      "photoUrl": "https://lh3.googleusercontent.com/a-/AOh14GjQ6XJWpQ4PxGbIfBQD6NHOzIh2M2Dg1VmFfhJiaw=s64",
      "userId": "15685909075934317041"
     },
     "user_tz": -330
    },
    "id": "7zPCIJgL6tiB"
   },
   "outputs": [],
   "source": []
  },
  {
   "cell_type": "markdown",
   "metadata": {
    "colab_type": "text",
    "id": "yjol4-1VBX_A"
   },
   "source": [
    "### Power User Curve"
   ]
  },
  {
   "cell_type": "code",
   "execution_count": 9,
   "metadata": {
    "colab": {},
    "colab_type": "code",
    "executionInfo": {
     "elapsed": 3009,
     "status": "ok",
     "timestamp": 1596441464511,
     "user": {
      "displayName": "Devesh Singh",
      "photoUrl": "https://lh3.googleusercontent.com/a-/AOh14GjQ6XJWpQ4PxGbIfBQD6NHOzIh2M2Dg1VmFfhJiaw=s64",
      "userId": "15685909075934317041"
     },
     "user_tz": -330
    },
    "id": "BfTobABmAyDs"
   },
   "outputs": [],
   "source": [
    "PCurve_col = df_PCurve.columns"
   ]
  },
  {
   "cell_type": "code",
   "execution_count": 10,
   "metadata": {
    "colab": {},
    "colab_type": "code",
    "executionInfo": {
     "elapsed": 3002,
     "status": "ok",
     "timestamp": 1596441464512,
     "user": {
      "displayName": "Devesh Singh",
      "photoUrl": "https://lh3.googleusercontent.com/a-/AOh14GjQ6XJWpQ4PxGbIfBQD6NHOzIh2M2Dg1VmFfhJiaw=s64",
      "userId": "15685909075934317041"
     },
     "user_tz": -330
    },
    "id": "f1TWyPOrA7GI"
   },
   "outputs": [],
   "source": [
    "PCurve_col_val = []\n",
    "size = df_PCurve.shape[0]\n",
    "\n",
    "for _ in PCurve_col:\n",
    "  no_notNull = size - df_PCurve[_].isnull().sum()\n",
    "  PCurve_col_val.append(no_notNull)"
   ]
  },
  {
   "cell_type": "code",
   "execution_count": 11,
   "metadata": {
    "colab": {
     "base_uri": "https://localhost:8080/",
     "height": 34
    },
    "colab_type": "code",
    "executionInfo": {
     "elapsed": 2957,
     "status": "ok",
     "timestamp": 1596441464513,
     "user": {
      "displayName": "Devesh Singh",
      "photoUrl": "https://lh3.googleusercontent.com/a-/AOh14GjQ6XJWpQ4PxGbIfBQD6NHOzIh2M2Dg1VmFfhJiaw=s64",
      "userId": "15685909075934317041"
     },
     "user_tz": -330
    },
    "id": "FhaaSPsUo12B",
    "outputId": "b904ca4d-2da6-4b71-9362-50cc6c21cffb"
   },
   "outputs": [
    {
     "name": "stdout",
     "output_type": "stream",
     "text": [
      "Average growth rate:  3.07 %\n"
     ]
    }
   ],
   "source": [
    "growthR_val = []\n",
    "growth = []\n",
    "\n",
    "for i in range(len(PCurve_col_val)):\n",
    "  if i == (len(PCurve_col_val)-1):\n",
    "    break\n",
    "  else:\n",
    "    diff = PCurve_col_val[i+1]-PCurve_col_val[i]\n",
    "    percent = (diff/PCurve_col_val[i])\n",
    "    growth.append(diff)\n",
    "    growthR_val.append(percent*100)\n",
    "\n",
    "\n",
    "print(\"Average growth rate: \",round(np.mean(growthR_val),2),\"%\")"
   ]
  },
  {
   "cell_type": "code",
   "execution_count": 12,
   "metadata": {
    "colab": {
     "base_uri": "https://localhost:8080/",
     "height": 34
    },
    "colab_type": "code",
    "executionInfo": {
     "elapsed": 3502,
     "status": "ok",
     "timestamp": 1596441465118,
     "user": {
      "displayName": "Devesh Singh",
      "photoUrl": "https://lh3.googleusercontent.com/a-/AOh14GjQ6XJWpQ4PxGbIfBQD6NHOzIh2M2Dg1VmFfhJiaw=s64",
      "userId": "15685909075934317041"
     },
     "user_tz": -330
    },
    "id": "Ry8BJhKsMAWw",
    "outputId": "ea7442d6-4fda-4a8f-85f4-139d96a98a8d"
   },
   "outputs": [
    {
     "name": "stdout",
     "output_type": "stream",
     "text": [
      "Number of Unique users during the period of 31 days:  57302\n"
     ]
    }
   ],
   "source": [
    "uniqueU = []\n",
    "l = []\n",
    "\n",
    "for _ in PCurve_col:\n",
    "  l.append(list(df_PCurve[_]))\n",
    "  for i in l:\n",
    "    for k in i:\n",
    "      uniqueU.append(k)\n",
    "\n",
    "uniqueU = set(uniqueU) \n",
    "print(\"Number of Unique users during the period of 31 days: \",len(uniqueU))"
   ]
  },
  {
   "cell_type": "code",
   "execution_count": 13,
   "metadata": {
    "colab": {
     "base_uri": "https://localhost:8080/",
     "height": 34
    },
    "colab_type": "code",
    "executionInfo": {
     "elapsed": 3467,
     "status": "ok",
     "timestamp": 1596441465119,
     "user": {
      "displayName": "Devesh Singh",
      "photoUrl": "https://lh3.googleusercontent.com/a-/AOh14GjQ6XJWpQ4PxGbIfBQD6NHOzIh2M2Dg1VmFfhJiaw=s64",
      "userId": "15685909075934317041"
     },
     "user_tz": -330
    },
    "id": "tu--s1PWBPND",
    "outputId": "433158a2-8468-4daf-a382-9ee28610579c"
   },
   "outputs": [
    {
     "name": "stdout",
     "output_type": "stream",
     "text": [
      "Average number of active users during the period of 31 days:  6879.0\n"
     ]
    }
   ],
   "source": [
    "print(\"Average number of active users during the period of 31 days: \",\n",
    "      round(np.mean(PCurve_col_val),0))"
   ]
  },
  {
   "cell_type": "code",
   "execution_count": 28,
   "metadata": {
    "colab": {
     "base_uri": "https://localhost:8080/",
     "height": 578
    },
    "colab_type": "code",
    "executionInfo": {
     "elapsed": 1734,
     "status": "ok",
     "timestamp": 1596441684009,
     "user": {
      "displayName": "Devesh Singh",
      "photoUrl": "https://lh3.googleusercontent.com/a-/AOh14GjQ6XJWpQ4PxGbIfBQD6NHOzIh2M2Dg1VmFfhJiaw=s64",
      "userId": "15685909075934317041"
     },
     "user_tz": -330
    },
    "id": "-1VfD26uBtsZ",
    "outputId": "86d64df6-9bb4-4c70-934d-5acd1bf901c8"
   },
   "outputs": [
    {
     "data": {
      "image/png": "[encoded data removed]",
      "text/plain": [
       "<Figure size 1008x576 with 1 Axes>"
      ]
     },
     "metadata": {
      "needs_background": "light",
      "tags": []
     },
     "output_type": "display_data"
    }
   ],
   "source": [
    "new_growth = [0,992,-162, 200, 190, -368, 730, 94, -52, 21, -177, 419, -416, 853, 179, 387,\n",
    "              51, 113, 406,-1271, 1629, -183, -59, 377, -433, -1099, 44, 1669, 475, 397, 181]\n",
    "\n",
    "new_users = [0,992,0, 200, 190, 0, 730, 94, 0, 21, 0, 419, 0, 853, 179, 387,\n",
    "              51, 113, 406,0, 1629, 0, 0, 377, 0, 0, 44, 1669, 475, 397, 181]\n",
    "\n",
    "churned = [0,0,-162, 0, 0, -368, 0, 0, -52, 0, -177, 0, -416, 0, 0, 0,\n",
    "              0, 0, 0,-1271, 0, -183, -59, 0, -433, -1099, 0, 0, 0, 0, 0]\n",
    "\n",
    "retentionR = np.array(PCurve_col_val) + np.array(churned) - np.array(new_users)\n",
    "\n",
    "fig = plt.figure(figsize = (14, 8)) \n",
    "plt.bar(PCurve_col, PCurve_col_val, label=\"Resurrected Users\")\n",
    "plt.bar(PCurve_col,new_users, label=\"New Users\" )\n",
    "plt.bar(PCurve_col,churned, label=\"Churned Users\")\n",
    "plt.plot(retentionR, label=\"Retention rate\",color=\"r\",linewidth=1.5)\n",
    "plt.xlabel(\"Days\") \n",
    "#plt.xticks(ticks=activeU_col)\n",
    "plt.xticks(rotation=80)\n",
    "plt.ylabel(\"Number of active users\") \n",
    "plt.title(\"Power User Curve (Histogram)\")\n",
    "plt.rcParams['font.size'] =12\n",
    "plt.legend()\n",
    "#plt.savefig('Power User Curve (Histogram).png')\n",
    "plt.show()\n"
   ]
  },
  {
   "cell_type": "code",
   "execution_count": 15,
   "metadata": {
    "colab": {
     "base_uri": "https://localhost:8080/",
     "height": 50
    },
    "colab_type": "code",
    "executionInfo": {
     "elapsed": 5161,
     "status": "ok",
     "timestamp": 1596441466897,
     "user": {
      "displayName": "Devesh Singh",
      "photoUrl": "https://lh3.googleusercontent.com/a-/AOh14GjQ6XJWpQ4PxGbIfBQD6NHOzIh2M2Dg1VmFfhJiaw=s64",
      "userId": "15685909075934317041"
     },
     "user_tz": -330
    },
    "id": "I5hBpnb5_qFg",
    "outputId": "f08da733-8b86-4656-80d1-c413c20035d8"
   },
   "outputs": [
    {
     "name": "stdout",
     "output_type": "stream",
     "text": [
      "Average number of new users:  303.0\n",
      "Average number of churned users:  -136.0\n"
     ]
    }
   ],
   "source": [
    "print(\"Average number of new users: \", round((np.mean(new_users)),0))\n",
    "print(\"Average number of churned users: \", round((np.mean(churned)),0))"
   ]
  },
  {
   "cell_type": "markdown",
   "metadata": {
    "colab_type": "text",
    "id": "04DZ-S8U0XPx"
   },
   "source": [
    "#### Insights from the above plot\n",
    "---\n",
    "- Total number of Unique users during the period of 31 days:  57302, i.e 57.30K\n",
    "- From day 1 to day 31, number of active users grow almost continuously\n",
    "- Average growth rate:  3.07 %\n",
    "- Day 1 has the least number of active users: 4364, i.e 4.36k\n",
    "- Day 31 has the most number of active users: 9551, i.e 9.55K\n",
    "- Average number of active users during the period of 31 days: 6879, i.e 6.87K\n",
    "- Average number of new users: 303.0\n",
    "- Average number of churned users: 136.0"
   ]
  },
  {
   "cell_type": "code",
   "execution_count": 50,
   "metadata": {
    "colab": {
     "base_uri": "https://localhost:8080/",
     "height": 411
    },
    "colab_type": "code",
    "executionInfo": {
     "elapsed": 1363,
     "status": "ok",
     "timestamp": 1596442201649,
     "user": {
      "displayName": "Devesh Singh",
      "photoUrl": "https://lh3.googleusercontent.com/a-/AOh14GjQ6XJWpQ4PxGbIfBQD6NHOzIh2M2Dg1VmFfhJiaw=s64",
      "userId": "15685909075934317041"
     },
     "user_tz": -330
    },
    "id": "SfettoTlCCEf",
    "outputId": "5cdaa4ff-d01a-4b78-e234-7f08ce57e7e2"
   },
   "outputs": [
    {
     "data": {
      "image/png": "[encoded data removed]",
      "text/plain": [
       "<Figure size 720x432 with 1 Axes>"
      ]
     },
     "metadata": {
      "needs_background": "light",
      "tags": []
     },
     "output_type": "display_data"
    }
   ],
   "source": [
    "fig = plt.figure(figsize = (10, 6)) \n",
    "plt.plot( PCurve_col_val)\n",
    "plt.xlabel(\"Days\") \n",
    "#plt.xticks(ticks=activeU_col)\n",
    "#plt.xticks(rotation=76)\n",
    "plt.ylabel(\"Number of active users\") \n",
    "plt.title(\"Power User Curve (Graph)\")\n",
    "#plt.savefig('Power User Curve (Graph).png')\n",
    "plt.rcParams['font.size'] = 10\n",
    "plt.show()"
   ]
  },
  {
   "cell_type": "markdown",
   "metadata": {
    "colab_type": "text",
    "id": "ThsLhFnSY6IY"
   },
   "source": [
    "#### Active Users distribution among Day of Week"
   ]
  },
  {
   "cell_type": "code",
   "execution_count": 17,
   "metadata": {
    "colab": {},
    "colab_type": "code",
    "executionInfo": {
     "elapsed": 5131,
     "status": "ok",
     "timestamp": 1596441466900,
     "user": {
      "displayName": "Devesh Singh",
      "photoUrl": "https://lh3.googleusercontent.com/a-/AOh14GjQ6XJWpQ4PxGbIfBQD6NHOzIh2M2Dg1VmFfhJiaw=s64",
      "userId": "15685909075934317041"
     },
     "user_tz": -330
    },
    "id": "YCOs-HAMEadC"
   },
   "outputs": [],
   "source": [
    "from datetime import date\n",
    "import calendar"
   ]
  },
  {
   "cell_type": "code",
   "execution_count": 31,
   "metadata": {
    "colab": {},
    "colab_type": "code",
    "executionInfo": {
     "elapsed": 1149,
     "status": "ok",
     "timestamp": 1596441789181,
     "user": {
      "displayName": "Devesh Singh",
      "photoUrl": "https://lh3.googleusercontent.com/a-/AOh14GjQ6XJWpQ4PxGbIfBQD6NHOzIh2M2Dg1VmFfhJiaw=s64",
      "userId": "15685909075934317041"
     },
     "user_tz": -330
    },
    "id": "orWJtd8lV6lo"
   },
   "outputs": [],
   "source": [
    "df_timestamp = pd.DataFrame()"
   ]
  },
  {
   "cell_type": "code",
   "execution_count": 32,
   "metadata": {
    "colab": {},
    "colab_type": "code",
    "executionInfo": {
     "elapsed": 1197,
     "status": "ok",
     "timestamp": 1596441791246,
     "user": {
      "displayName": "Devesh Singh",
      "photoUrl": "https://lh3.googleusercontent.com/a-/AOh14GjQ6XJWpQ4PxGbIfBQD6NHOzIh2M2Dg1VmFfhJiaw=s64",
      "userId": "15685909075934317041"
     },
     "user_tz": -330
    },
    "id": "m9WixRiz-GbH"
   },
   "outputs": [],
   "source": [
    "df_timestamp['Timestamp'] = pd.to_datetime(df_PCurve.columns)"
   ]
  },
  {
   "cell_type": "code",
   "execution_count": 33,
   "metadata": {
    "colab": {},
    "colab_type": "code",
    "executionInfo": {
     "elapsed": 1004,
     "status": "ok",
     "timestamp": 1596441798424,
     "user": {
      "displayName": "Devesh Singh",
      "photoUrl": "https://lh3.googleusercontent.com/a-/AOh14GjQ6XJWpQ4PxGbIfBQD6NHOzIh2M2Dg1VmFfhJiaw=s64",
      "userId": "15685909075934317041"
     },
     "user_tz": -330
    },
    "id": "EQRbj9EC-ovr"
   },
   "outputs": [],
   "source": [
    "df_timestamp['Day of Week'] = df_timestamp['Timestamp'].dt.day_name()\n",
    "df_timestamp['Active Users'] = PCurve_col_val"
   ]
  },
  {
   "cell_type": "code",
   "execution_count": 34,
   "metadata": {
    "colab": {},
    "colab_type": "code",
    "executionInfo": {
     "elapsed": 1422,
     "status": "ok",
     "timestamp": 1596441798858,
     "user": {
      "displayName": "Devesh Singh",
      "photoUrl": "https://lh3.googleusercontent.com/a-/AOh14GjQ6XJWpQ4PxGbIfBQD6NHOzIh2M2Dg1VmFfhJiaw=s64",
      "userId": "15685909075934317041"
     },
     "user_tz": -330
    },
    "id": "1jR_Yiq9BHYX"
   },
   "outputs": [],
   "source": [
    "days = ['Tuesday','Monday','Sunday','Wednesday','Saturday','Thursday','Friday']\n",
    "activeU_on_a_day = []\n",
    "\n",
    "for _ in days:\n",
    "  df = df_timestamp[df_timestamp['Day of Week'] == _]\n",
    "  total = df['Active Users'].sum(axis=0)\n",
    "  activeU_on_a_day.append(total)\n"
   ]
  },
  {
   "cell_type": "code",
   "execution_count": 35,
   "metadata": {
    "colab": {
     "base_uri": "https://localhost:8080/",
     "height": 499
    },
    "colab_type": "code",
    "executionInfo": {
     "elapsed": 2113,
     "status": "ok",
     "timestamp": 1596441799566,
     "user": {
      "displayName": "Devesh Singh",
      "photoUrl": "https://lh3.googleusercontent.com/a-/AOh14GjQ6XJWpQ4PxGbIfBQD6NHOzIh2M2Dg1VmFfhJiaw=s64",
      "userId": "15685909075934317041"
     },
     "user_tz": -330
    },
    "id": "vpzkTi70CogW",
    "outputId": "d7ccf5f4-2749-4241-ae6d-9d03a494a532"
   },
   "outputs": [
    {
     "data": {
      "image/png": "[encoded data removed]",
      "text/plain": [
       "<Figure size 720x576 with 1 Axes>"
      ]
     },
     "metadata": {
      "tags": []
     },
     "output_type": "display_data"
    }
   ],
   "source": [
    "explode = (0.1,0.02,0.02,0.02,0.02,0.02,0.08)\n",
    "\n",
    "fig = plt.figure(figsize =(10, 8)) \n",
    "plt.pie(activeU_on_a_day, labels = days, autopct='%1.1f%%', explode=explode, shadow=True )\n",
    "plt.title(\"Active Users distribution among Day of Week\\n\")\n",
    "#plt.savefig('Active Users distribution among Day of Week.png')\n",
    "plt.rcParams['font.size'] = 16\n",
    "plt.show() "
   ]
  },
  {
   "cell_type": "markdown",
   "metadata": {
    "colab_type": "text",
    "id": "6_Pt4SJNWrTf"
   },
   "source": [
    "- Most number of users were active on Tuesdays\n",
    "- Least number of users were active on Fridays\n",
    "  - This could be due to the reason that most of the people prefer going out for parties and fun on friday nights\n",
    "- Overall, number of users that were active during the weekdays is somewhat similar"
   ]
  },
  {
   "cell_type": "markdown",
   "metadata": {
    "colab_type": "text",
    "id": "BoU2BC_ObdhF"
   },
   "source": [
    "---\n",
    "Recommendations to lift the Power User Curve:\n",
    "\n",
    "- Organise sales on Saturdays, Sundays, Mondays, and Tuesdays\n",
    "  - Because from Saturday to Tuesday number of active users grow consistently\n",
    "- Put on hoarding advertisements during the weekends when people prefer going out\n",
    "  - So that they could be attracted to use the Mylo app"
   ]
  },
  {
   "cell_type": "code",
   "execution_count": 35,
   "metadata": {
    "colab": {},
    "colab_type": "code",
    "executionInfo": {
     "elapsed": 2101,
     "status": "ok",
     "timestamp": 1596441799568,
     "user": {
      "displayName": "Devesh Singh",
      "photoUrl": "https://lh3.googleusercontent.com/a-/AOh14GjQ6XJWpQ4PxGbIfBQD6NHOzIh2M2Dg1VmFfhJiaw=s64",
      "userId": "15685909075934317041"
     },
     "user_tz": -330
    },
    "id": "xF15rcylY-un"
   },
   "outputs": [],
   "source": []
  },
  {
   "cell_type": "markdown",
   "metadata": {
    "colab_type": "text",
    "id": "8b584yWP04Ww"
   },
   "source": [
    "### Weekly Growth Accounting"
   ]
  },
  {
   "cell_type": "code",
   "execution_count": 36,
   "metadata": {
    "colab": {},
    "colab_type": "code",
    "executionInfo": {
     "elapsed": 2061,
     "status": "ok",
     "timestamp": 1596441799569,
     "user": {
      "displayName": "Devesh Singh",
      "photoUrl": "https://lh3.googleusercontent.com/a-/AOh14GjQ6XJWpQ4PxGbIfBQD6NHOzIh2M2Dg1VmFfhJiaw=s64",
      "userId": "15685909075934317041"
     },
     "user_tz": -330
    },
    "id": "8Ey-I2il06Cm"
   },
   "outputs": [],
   "source": [
    "activeU_col = df_activeU.columns"
   ]
  },
  {
   "cell_type": "code",
   "execution_count": 37,
   "metadata": {
    "colab": {},
    "colab_type": "code",
    "executionInfo": {
     "elapsed": 2041,
     "status": "ok",
     "timestamp": 1596441799569,
     "user": {
      "displayName": "Devesh Singh",
      "photoUrl": "https://lh3.googleusercontent.com/a-/AOh14GjQ6XJWpQ4PxGbIfBQD6NHOzIh2M2Dg1VmFfhJiaw=s64",
      "userId": "15685909075934317041"
     },
     "user_tz": -330
    },
    "id": "MCINW7Zv0-wj"
   },
   "outputs": [],
   "source": [
    "activeU_col_val = []\n",
    "size = df_activeU.shape[0]\n",
    "\n",
    "for _ in activeU_col:\n",
    "  no_notNull = size - df_activeU[_].isnull().sum()\n",
    "  activeU_col_val.append(no_notNull)"
   ]
  },
  {
   "cell_type": "code",
   "execution_count": 37,
   "metadata": {
    "colab": {},
    "colab_type": "code",
    "executionInfo": {
     "elapsed": 2024,
     "status": "ok",
     "timestamp": 1596441799570,
     "user": {
      "displayName": "Devesh Singh",
      "photoUrl": "https://lh3.googleusercontent.com/a-/AOh14GjQ6XJWpQ4PxGbIfBQD6NHOzIh2M2Dg1VmFfhJiaw=s64",
      "userId": "15685909075934317041"
     },
     "user_tz": -330
    },
    "id": "uy-A3kPhhb_G"
   },
   "outputs": [],
   "source": []
  },
  {
   "cell_type": "code",
   "execution_count": 38,
   "metadata": {
    "colab": {
     "base_uri": "https://localhost:8080/",
     "height": 34
    },
    "colab_type": "code",
    "executionInfo": {
     "elapsed": 2950,
     "status": "ok",
     "timestamp": 1596441800512,
     "user": {
      "displayName": "Devesh Singh",
      "photoUrl": "https://lh3.googleusercontent.com/a-/AOh14GjQ6XJWpQ4PxGbIfBQD6NHOzIh2M2Dg1VmFfhJiaw=s64",
      "userId": "15685909075934317041"
     },
     "user_tz": -330
    },
    "id": "5XaKEq5HUfiQ",
    "outputId": "9cb2197b-6129-4a88-9209-4b5d1aa9450f"
   },
   "outputs": [
    {
     "name": "stdout",
     "output_type": "stream",
     "text": [
      "Total number of Unique users during the period of 51 weeks:  31825\n"
     ]
    }
   ],
   "source": [
    "uniqueU = []\n",
    "l = []\n",
    "\n",
    "for _ in activeU_col:\n",
    "  l.append(list(df_activeU[_]))\n",
    "  for i in l:\n",
    "    for k in i:\n",
    "      uniqueU.append(k)\n",
    "\n",
    "uniqueU = set(uniqueU) \n",
    "print(\"Total number of Unique users during the period of 51 weeks: \",len(uniqueU))"
   ]
  },
  {
   "cell_type": "code",
   "execution_count": 39,
   "metadata": {
    "colab": {
     "base_uri": "https://localhost:8080/",
     "height": 34
    },
    "colab_type": "code",
    "executionInfo": {
     "elapsed": 2921,
     "status": "ok",
     "timestamp": 1596441800514,
     "user": {
      "displayName": "Devesh Singh",
      "photoUrl": "https://lh3.googleusercontent.com/a-/AOh14GjQ6XJWpQ4PxGbIfBQD6NHOzIh2M2Dg1VmFfhJiaw=s64",
      "userId": "15685909075934317041"
     },
     "user_tz": -330
    },
    "id": "8wrlwm47-Nsc",
    "outputId": "6af4ecf0-a578-49b9-a201-5745427ecaad"
   },
   "outputs": [
    {
     "name": "stdout",
     "output_type": "stream",
     "text": [
      "Average number of active users during the period of 56 weeks:  3078.0\n"
     ]
    }
   ],
   "source": [
    "print(\"Average number of active users during the period of 56 weeks: \",round(np.mean(activeU_col_val),0))"
   ]
  },
  {
   "cell_type": "code",
   "execution_count": 40,
   "metadata": {
    "colab": {
     "base_uri": "https://localhost:8080/",
     "height": 34
    },
    "colab_type": "code",
    "executionInfo": {
     "elapsed": 2894,
     "status": "ok",
     "timestamp": 1596441800516,
     "user": {
      "displayName": "Devesh Singh",
      "photoUrl": "https://lh3.googleusercontent.com/a-/AOh14GjQ6XJWpQ4PxGbIfBQD6NHOzIh2M2Dg1VmFfhJiaw=s64",
      "userId": "15685909075934317041"
     },
     "user_tz": -330
    },
    "id": "NUK1n6Fhk9DI",
    "outputId": "00193bff-a158-40e3-f2c6-efe85187e0f7"
   },
   "outputs": [
    {
     "name": "stdout",
     "output_type": "stream",
     "text": [
      "Average growth rate:  1.58 %\n"
     ]
    }
   ],
   "source": [
    "growthR_val = []\n",
    "growth = []\n",
    "\n",
    "for i in range(len(activeU_col_val)):\n",
    "  if i == (len(activeU_col_val)-1):\n",
    "    break\n",
    "  else:\n",
    "    diff = activeU_col_val[i+1]-activeU_col_val[i]\n",
    "    growth.append(diff)\n",
    "    percent = (diff/activeU_col_val[i])\n",
    "    growthR_val.append(percent*100)\n",
    "\n",
    "\n",
    "print(\"Average growth rate: \",round(np.mean(growthR_val),2),\"%\")"
   ]
  },
  {
   "cell_type": "code",
   "execution_count": 49,
   "metadata": {
    "colab": {
     "base_uri": "https://localhost:8080/",
     "height": 753
    },
    "colab_type": "code",
    "executionInfo": {
     "elapsed": 2225,
     "status": "ok",
     "timestamp": 1596441959532,
     "user": {
      "displayName": "Devesh Singh",
      "photoUrl": "https://lh3.googleusercontent.com/a-/AOh14GjQ6XJWpQ4PxGbIfBQD6NHOzIh2M2Dg1VmFfhJiaw=s64",
      "userId": "15685909075934317041"
     },
     "user_tz": -330
    },
    "id": "9yAqFSfR1byy",
    "outputId": "c126a8fc-c4ab-4dd8-e04d-2484a2010fd1"
   },
   "outputs": [
    {
     "data": {
      "image/png": "[encoded data removed]",
      "text/plain": [
       "<Figure size 1296x864 with 1 Axes>"
      ]
     },
     "metadata": {
      "needs_background": "light",
      "tags": []
     },
     "output_type": "display_data"
    }
   ],
   "source": [
    "new_growth = [0,-105, 78, 384, 77, -36, 394, 324, -80, 26, -75, 160, 174, -29, -98, 113, -21, 54, -31,\n",
    "              34, -111, 256, -53, -85, -8, 86, -2, -110, -230, -160, -33, -95, -28, 405, -47, 294, -82,\n",
    "               302, 336, 9, 268, -566, -299, 69, -127, 492, 24, 215, 41, -109, 47, -33, -27, 168, -103,\n",
    "               -110]\n",
    "\n",
    "new_users = [0, 0, 78, 384, 77, 0, 394, 324, 0, 26, 0, 160, 174, 0, 0, 113, 0, 54, 0,\n",
    "              34, 0, 256, 0, 0, 0, 86, 0, 0, 0, 0, 0, 0, 0, 405, 0, 294, 0,\n",
    "               302, 336, 9, 268, 0, 0, 69, 0, 492, 24, 215, 41, 0, 47, 0, 0, 168, 0,\n",
    "               0]\n",
    "\n",
    "churned = [0,-105, 0, 0, 0, -36, 0, 0, -80, 0, -75, 0, 0, -29, -98, 0, -21, 0, -31,\n",
    "              0, -111, 0, -53, -85, -8, 0, -2, -110, -230, -160, -33, -95, -28, 0, -47, 0, -82,\n",
    "               0, 0, 0, 0, -566, -299, 0, -127, 0, 0, 0, 0, -109, 0, -33, -27, 0, -103,\n",
    "               -110]\n",
    "\n",
    "retentionR = np.array(activeU_col_val) + np.array(churned) - np.array(new_users)\n",
    "\n",
    "fig = plt.figure(figsize = (18, 12)) \n",
    "plt.bar(activeU_col, activeU_col_val, label= \"Resurrected Users\")\n",
    "plt.bar(activeU_col, new_users, label=\"New Users\")\n",
    "plt.bar(activeU_col, churned, label=\"Churned Users\")\n",
    "plt.plot(retentionR, label=\"Retention rate\",color=\"r\",linewidth=1.5 )\n",
    "plt.xlabel(\"Weeks\") \n",
    "#plt.xticks(ticks=activeU_col)\n",
    "plt.xticks(rotation=60)\n",
    "plt.ylabel(\"Number of active users\") \n",
    "plt.title(\"Weekly Growth Accounting Chart (Histogram)\")\n",
    "plt.rcParams['font.size'] = 12\n",
    "plt.legend()\n",
    "#plt.savefig('Weekly Growth Accounting Chart (Histogram).png')\n",
    "plt.show()"
   ]
  },
  {
   "cell_type": "code",
   "execution_count": 42,
   "metadata": {
    "colab": {
     "base_uri": "https://localhost:8080/",
     "height": 50
    },
    "colab_type": "code",
    "executionInfo": {
     "elapsed": 5884,
     "status": "ok",
     "timestamp": 1596441803533,
     "user": {
      "displayName": "Devesh Singh",
      "photoUrl": "https://lh3.googleusercontent.com/a-/AOh14GjQ6XJWpQ4PxGbIfBQD6NHOzIh2M2Dg1VmFfhJiaw=s64",
      "userId": "15685909075934317041"
     },
     "user_tz": -330
    },
    "id": "HClclmAbEheg",
    "outputId": "2a941eec-44b8-405c-8da5-17e449cdb9ad"
   },
   "outputs": [
    {
     "name": "stdout",
     "output_type": "stream",
     "text": [
      "Average number of new users:  86.0\n",
      "Average number of churned users:  -52.0\n"
     ]
    }
   ],
   "source": [
    "print(\"Average number of new users: \", round((np.mean(new_users)),0))\n",
    "print(\"Average number of churned users: \", round((np.mean(churned)),0))"
   ]
  },
  {
   "cell_type": "markdown",
   "metadata": {
    "colab_type": "text",
    "id": "p9VVPZR5_JU_"
   },
   "source": [
    "#### Insights from the above plot\n",
    "---\n",
    "\n",
    "- Total number of Unique users during the period of 56 weeks:  31825, i.e 31.82K\n",
    "- Average number of active users during this period: 3078, i.e 3.07K\n",
    "- Average growth rate:  1.58 %\n",
    "- From Week 1 to Week 22, the number of active users grow almost consistently\n",
    "- From Week 28 to Week 33, the number of active users fall consistently\n",
    "- Week 2 has the least number of active users: 1654, i.e 1.65K\n",
    "- Week 41 has the most number of active users: 4014, i.e 4.01K\n",
    "- Average number of new users:  86.0\n",
    "- Average number of churned users:  52.0\n"
   ]
  },
  {
   "cell_type": "code",
   "execution_count": 51,
   "metadata": {
    "colab": {
     "base_uri": "https://localhost:8080/",
     "height": 404
    },
    "colab_type": "code",
    "executionInfo": {
     "elapsed": 1594,
     "status": "ok",
     "timestamp": 1596442211755,
     "user": {
      "displayName": "Devesh Singh",
      "photoUrl": "https://lh3.googleusercontent.com/a-/AOh14GjQ6XJWpQ4PxGbIfBQD6NHOzIh2M2Dg1VmFfhJiaw=s64",
      "userId": "15685909075934317041"
     },
     "user_tz": -330
    },
    "id": "wIa7qdng3vaR",
    "outputId": "7de280f1-9508-4bea-ee48-10272c88a1c8"
   },
   "outputs": [
    {
     "data": {
      "image/png": "[encoded data removed]",
      "text/plain": [
       "<Figure size 720x432 with 1 Axes>"
      ]
     },
     "metadata": {
      "needs_background": "light",
      "tags": []
     },
     "output_type": "display_data"
    }
   ],
   "source": [
    "fig = plt.figure(figsize = (10, 6)) \n",
    "plt.plot(activeU_col_val)\n",
    "plt.xlabel(\"Weeks\") \n",
    "#plt.xticks(ticks=activeU_col)\n",
    "#plt.xticks(rotation=60)\n",
    "plt.ylabel(\"Number of active users\") \n",
    "plt.title(\"Weekly Growth Accounting Chart (Graph)\")\n",
    "#plt.savefig('Weekly Growth Accounting Chart (Graph).png')\n",
    "plt.rcParams['font.size'] = 10\n",
    "plt.show()"
   ]
  },
  {
   "cell_type": "code",
   "execution_count": 43,
   "metadata": {
    "colab": {},
    "colab_type": "code",
    "executionInfo": {
     "elapsed": 5863,
     "status": "ok",
     "timestamp": 1596441803539,
     "user": {
      "displayName": "Devesh Singh",
      "photoUrl": "https://lh3.googleusercontent.com/a-/AOh14GjQ6XJWpQ4PxGbIfBQD6NHOzIh2M2Dg1VmFfhJiaw=s64",
      "userId": "15685909075934317041"
     },
     "user_tz": -330
    },
    "id": "iZhy6OZGV1Uk"
   },
   "outputs": [],
   "source": []
  }
 ],
 "metadata": {
  "colab": {
   "authorship_tag": "ABX9TyOTVCk8P1zx2JpdftF2h+9O",
   "collapsed_sections": [],
   "name": "Mylo_app.ipynb",
   "provenance": [],
   "toc_visible": true
  },
  "kernelspec": {
   "display_name": "Python 3",
   "language": "python",
   "name": "python3"
  },
  "language_info": {
   "codemirror_mode": {
    "name": "ipython",
    "version": 3
   },
   "file_extension": ".py",
   "mimetype": "text/x-python",
   "name": "python",
   "nbconvert_exporter": "python",
   "pygments_lexer": "ipython3",
   "version": "3.7.7"
  }
 },
 "nbformat": 4,
 "nbformat_minor": 1
}
